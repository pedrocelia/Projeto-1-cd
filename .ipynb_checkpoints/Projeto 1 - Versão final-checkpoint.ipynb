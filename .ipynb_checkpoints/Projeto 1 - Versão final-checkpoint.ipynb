{
 "cells": [
  {
   "cell_type": "markdown",
   "metadata": {},
   "source": [
    "# Projeto 1 - Ciência dos Dados"
   ]
  },
  {
   "cell_type": "markdown",
   "metadata": {},
   "source": [
    "Nome: Pedro Dinacci Célia"
   ]
  },
  {
   "cell_type": "markdown",
   "metadata": {},
   "source": [
    "## Por que existe paises que nunca foram membros do Conselho de Segurança das Nações Unidas?"
   ]
  },
  {
   "cell_type": "markdown",
   "metadata": {},
   "source": [
    "## CSNU intro:"
   ]
  },
  {
   "cell_type": "markdown",
   "metadata": {},
   "source": [
    "O Conselho de Segurança das Nações Unidas (CSNU) teve sua primeira sessão em Londres em 1946, atualmente a maioria das sessões são feitas em Nova Iorque. Essa organização das Nações Unidas é notável por dois aspectos de funcionamento: o caratér manadatório nas resoluções e o P5, que são 5 membros permanentes e tem o poder de vetar cláusulas de documentos oficiais, o P5 é composto por: Estados Unidos, Reino Unido, França, Rússia e China.\n",
    "\n",
    "O conselho é composto por 15 membros, como já visto anteriormente 5 desses membro são permanentes, os outros 10 são eleitos de dois em dois anos ou anualmente, contudo existe paises que nunca tiveram a chance de representar o seu país na organização. É de extrema impotância ser membro do CSNU, pois muitas informações são trocadas entres os paises e muitos acordos economicos/militares são realizados."
   ]
  },
  {
   "cell_type": "markdown",
   "metadata": {},
   "source": [
    "## Hipótese e mecanismo:"
   ]
  },
  {
   "cell_type": "markdown",
   "metadata": {},
   "source": [
    "O objetivo desse trabalho é tentar compreender o motivo por qual existe paises que nunca foram membros do CSNU, as hipoteses levantadas são: falta de relevancia mundial e/ou a existencia de inumeros problemas internos o que prejudicariam as ações do conselho.\n",
    "\n",
    "Para fazer isso seram análisadas as variáves de gasto militar para indicar se um país pode ser visto com um que possui muitas perturbações. Ademais também será usado o PIB para averiguar na constação econômica dos países. Além disso a variável de Mortes em Batalha serve para apoiar a verificção se um tem problemas.\n",
    "\n",
    "Um artigo feito pela Ethics and International Affairs ele descreve e opina sobre vários aspectos do CSNU, outrossim disserta sobre a falta de importância dos membros rotativos para a comunidade internacional. Logo, complementando a hipotese: se os membros rotativos são considerados por alguns como sem importância, imagine aqueles que nunca foram membros.\n",
    "\n",
    "ETHICS AND INTERNATIONAL AFFAIRS. Elected Security Council Members: Power, Process, Purpose. Disponível em: https://www.ethicsandinternationalaffairs.org/2012/elected-security-council-members-power-process-purpose/. Acesso em: 27 ago. 2019."
   ]
  },
  {
   "cell_type": "markdown",
   "metadata": {},
   "source": [
    "## Bases de dados usadas"
   ]
  },
  {
   "cell_type": "markdown",
   "metadata": {},
   "source": [
    "https://docs.google.com/spreadsheets/d/1HXH3ncdQLFpOXVNdC2nkPCSGz_perkfPcBeU1e2HF24/pub - Gasto militar em % do PIB\n",
    "\n",
    "https://docs.google.com/spreadsheets/d/1ERXxEh-2Gejk5mAfqoZMkllRYu6lvEOXZKKDpuxBBlg/pub - PIB\n",
    "\n",
    "https://docs.google.com/spreadsheets/d/15kseoFj-w39TvMl_Ije-C2TZy-DKYyECsF-uGdec0z8/pub - Mortes em Batalha"
   ]
  },
  {
   "cell_type": "markdown",
   "metadata": {},
   "source": [
    "## Análise de dados"
   ]
  },
  {
   "cell_type": "code",
   "execution_count": 26,
   "metadata": {},
   "outputs": [],
   "source": [
    "#Importando todas as classes necessárias.\n",
    "\n",
    "%matplotlib inline\n",
    "import pandas as pd\n",
    "import numpy as np\n",
    "import math as math\n",
    "from scipy import stats\n",
    "import matplotlib.pyplot as plt\n"
   ]
  },
  {
   "cell_type": "code",
   "execution_count": 27,
   "metadata": {},
   "outputs": [],
   "source": [
    "#Leitura dos arquivos em Excel.\n",
    "\n",
    "PIB = pd.read_excel('indicatorGNItotalPPP.xlsx')\n",
    "Mil_exp = pd.read_excel('military expenditure.xlsx')\n",
    "Mor= pd.read_excel('War age-adjusted mortality from GBD 20100812.xlsx')"
   ]
  },
  {
   "cell_type": "code",
   "execution_count": 28,
   "metadata": {},
   "outputs": [],
   "source": [
    "#Transpondo e selecionando os anos a serem trabalhados.\n",
    "\n",
    "PIB_trans=PIB.transpose()\n",
    "PIB_idx=PIB_trans[PIB_trans.index>'2000']\n",
    "PIB_x=PIB_idx.transpose()"
   ]
  },
  {
   "cell_type": "code",
   "execution_count": 29,
   "metadata": {},
   "outputs": [],
   "source": [
    "#Indexando a tabela do PIB.\n",
    "\n",
    "PIB_index = PIB_x.set_index('Total GNI, PPP (current international $)')"
   ]
  },
  {
   "cell_type": "code",
   "execution_count": 30,
   "metadata": {},
   "outputs": [],
   "source": [
    "#Selecionando os paises a serem selecionados.\n",
    "\n",
    "PIB_select = PIB_index.loc[['China','United States','Russia','United Kingdom','France','Israel','Belize','Mongolia','Switzerland','Afghanistan','Mozambique'],:]\n",
    "#PIB_select"
   ]
  },
  {
   "cell_type": "code",
   "execution_count": 31,
   "metadata": {},
   "outputs": [],
   "source": [
    "#Transpondo e selecionando os anos a serem análisados.\n",
    "\n",
    "Mil_exp_trans = Mil_exp.transpose()\n",
    "Mil_exp_idx = Mil_exp_trans[Mil_exp_trans.index>'2000']\n",
    "Mil_exp_x = Mil_exp_idx.transpose()\n"
   ]
  },
  {
   "cell_type": "code",
   "execution_count": 32,
   "metadata": {},
   "outputs": [],
   "source": [
    "#Indexando a tabela de gasto militar.\n",
    "\n",
    "Mil_exp_index = Mil_exp_x.set_index('Military expenditure (% of GDP)')"
   ]
  },
  {
   "cell_type": "code",
   "execution_count": 33,
   "metadata": {},
   "outputs": [],
   "source": [
    "#Selecionado os paises a serem trabalhados.\n",
    "\n",
    "Mil_exp_select = Mil_exp_index.loc[['China','United States','Russia','United Kingdom','France','Israel','Belize','Mongolia','Switzerland','Afghanistan','Mozambique'],:]"
   ]
  },
  {
   "cell_type": "code",
   "execution_count": 34,
   "metadata": {},
   "outputs": [],
   "source": [
    "#Indexando a tabela de mortes de batalha.\n",
    "\n",
    "Mor_index = Mor.set_index('War, age-adjusted mortality due to')"
   ]
  },
  {
   "cell_type": "code",
   "execution_count": 35,
   "metadata": {},
   "outputs": [],
   "source": [
    "#Selecionado os paises a serem trabalhados.\n",
    "\n",
    "Mor_select = Mor_index.loc[['China','United States','Russia','United Kingdom','France','Israel','Belize','Mongolia','Switzerland','Afghanistan','Mozambique'],:]\n",
    "Mor_name = Mor_select.rename(columns = {2002:'Mortos em batalha (2002)',2004:'Mortos em batalha (2004)'})"
   ]
  },
  {
   "cell_type": "code",
   "execution_count": 36,
   "metadata": {},
   "outputs": [],
   "source": [
    "#Selecionando o PIB de 2010 para ser transformado em uma variável qualitativa.\n",
    "\n",
    "PIB_2010=PIB_select.loc[:,'2010']\n",
    "pib=PIB_2010.to_frame()"
   ]
  },
  {
   "cell_type": "code",
   "execution_count": 38,
   "metadata": {},
   "outputs": [],
   "source": [
    "#Tranformando o PIB em uma varável qualitativa e criando uma coluna com a nova classificação.\n",
    "\n",
    "pib.loc[pib['2010']<4e10, \"class\"]=\"pobre\"\n",
    "pib.loc[pib['2010']>4e10, \"class\"]=\"médio\"\n",
    "pib.loc[pib['2010']>3e12, \"class\"]=\"rico\"\n",
    "pib_class=pib.loc[:,'class']\n",
    "x=pib_class.to_frame()"
   ]
  },
  {
   "cell_type": "code",
   "execution_count": 39,
   "metadata": {},
   "outputs": [
    {
     "data": {
      "text/html": [
       "<div>\n",
       "<style scoped>\n",
       "    .dataframe tbody tr th:only-of-type {\n",
       "        vertical-align: middle;\n",
       "    }\n",
       "\n",
       "    .dataframe tbody tr th {\n",
       "        vertical-align: top;\n",
       "    }\n",
       "\n",
       "    .dataframe thead th {\n",
       "        text-align: right;\n",
       "    }\n",
       "</style>\n",
       "<table border=\"1\" class=\"dataframe\">\n",
       "  <thead>\n",
       "    <tr style=\"text-align: right;\">\n",
       "      <th></th>\n",
       "      <th>2001</th>\n",
       "      <th>2002</th>\n",
       "      <th>2003</th>\n",
       "      <th>2004</th>\n",
       "      <th>2005</th>\n",
       "      <th>2006</th>\n",
       "      <th>2007</th>\n",
       "      <th>2008</th>\n",
       "      <th>2009</th>\n",
       "      <th>2010</th>\n",
       "      <th>2011</th>\n",
       "      <th>class</th>\n",
       "    </tr>\n",
       "  </thead>\n",
       "  <tbody>\n",
       "    <tr>\n",
       "      <th>China</th>\n",
       "      <td>2.07013</td>\n",
       "      <td>2.1773</td>\n",
       "      <td>2.12041</td>\n",
       "      <td>2.07032</td>\n",
       "      <td>2.04934</td>\n",
       "      <td>2.08955</td>\n",
       "      <td>2.0541</td>\n",
       "      <td>2.03155</td>\n",
       "      <td>2.24111</td>\n",
       "      <td>2.04228</td>\n",
       "      <td>1.95186</td>\n",
       "      <td>rico</td>\n",
       "    </tr>\n",
       "    <tr>\n",
       "      <th>United States</th>\n",
       "      <td>3.05595</td>\n",
       "      <td>3.3684</td>\n",
       "      <td>3.74436</td>\n",
       "      <td>3.93867</td>\n",
       "      <td>4.00622</td>\n",
       "      <td>3.96305</td>\n",
       "      <td>3.98918</td>\n",
       "      <td>4.36827</td>\n",
       "      <td>4.82273</td>\n",
       "      <td>4.83336</td>\n",
       "      <td>4.71327</td>\n",
       "      <td>rico</td>\n",
       "    </tr>\n",
       "    <tr>\n",
       "      <th>Russia</th>\n",
       "      <td>4.08113</td>\n",
       "      <td>4.34412</td>\n",
       "      <td>4.30035</td>\n",
       "      <td>3.85266</td>\n",
       "      <td>3.7298</td>\n",
       "      <td>3.5925</td>\n",
       "      <td>3.44086</td>\n",
       "      <td>3.50802</td>\n",
       "      <td>4.36259</td>\n",
       "      <td>3.94264</td>\n",
       "      <td>3.86915</td>\n",
       "      <td>médio</td>\n",
       "    </tr>\n",
       "    <tr>\n",
       "      <th>United Kingdom</th>\n",
       "      <td>2.40245</td>\n",
       "      <td>2.46074</td>\n",
       "      <td>2.52325</td>\n",
       "      <td>2.45166</td>\n",
       "      <td>2.41834</td>\n",
       "      <td>2.35143</td>\n",
       "      <td>2.34586</td>\n",
       "      <td>2.48942</td>\n",
       "      <td>2.66721</td>\n",
       "      <td>2.56809</td>\n",
       "      <td>2.59461</td>\n",
       "      <td>médio</td>\n",
       "    </tr>\n",
       "    <tr>\n",
       "      <th>France</th>\n",
       "      <td>2.4865</td>\n",
       "      <td>2.50699</td>\n",
       "      <td>2.56212</td>\n",
       "      <td>2.57857</td>\n",
       "      <td>2.47636</td>\n",
       "      <td>2.41681</td>\n",
       "      <td>2.34647</td>\n",
       "      <td>2.33101</td>\n",
       "      <td>2.55313</td>\n",
       "      <td>2.3032</td>\n",
       "      <td>2.24884</td>\n",
       "      <td>médio</td>\n",
       "    </tr>\n",
       "    <tr>\n",
       "      <th>Israel</th>\n",
       "      <td>8.39279</td>\n",
       "      <td>9.63606</td>\n",
       "      <td>9.61958</td>\n",
       "      <td>8.72214</td>\n",
       "      <td>8.02784</td>\n",
       "      <td>8.10178</td>\n",
       "      <td>7.46542</td>\n",
       "      <td>7.11494</td>\n",
       "      <td>7.0022</td>\n",
       "      <td>6.54977</td>\n",
       "      <td>6.76796</td>\n",
       "      <td>médio</td>\n",
       "    </tr>\n",
       "    <tr>\n",
       "      <th>Belize</th>\n",
       "      <td>0.854514</td>\n",
       "      <td>0.841664</td>\n",
       "      <td>0.86521</td>\n",
       "      <td>0.899363</td>\n",
       "      <td>0.959749</td>\n",
       "      <td>1.01393</td>\n",
       "      <td>1.07695</td>\n",
       "      <td>1.37147</td>\n",
       "      <td>1.27872</td>\n",
       "      <td>1.09565</td>\n",
       "      <td>1.06513</td>\n",
       "      <td>pobre</td>\n",
       "    </tr>\n",
       "    <tr>\n",
       "      <th>Mongolia</th>\n",
       "      <td>1.82372</td>\n",
       "      <td>1.81032</td>\n",
       "      <td>1.52531</td>\n",
       "      <td>1.393</td>\n",
       "      <td>1.18084</td>\n",
       "      <td>1.14789</td>\n",
       "      <td>1.33558</td>\n",
       "      <td>1.18704</td>\n",
       "      <td>0.821013</td>\n",
       "      <td>0.884699</td>\n",
       "      <td>0.951643</td>\n",
       "      <td>pobre</td>\n",
       "    </tr>\n",
       "    <tr>\n",
       "      <th>Switzerland</th>\n",
       "      <td>1.08384</td>\n",
       "      <td>1.03464</td>\n",
       "      <td>1.0061</td>\n",
       "      <td>0.965265</td>\n",
       "      <td>0.935534</td>\n",
       "      <td>0.850891</td>\n",
       "      <td>0.811935</td>\n",
       "      <td>0.814454</td>\n",
       "      <td>0.823859</td>\n",
       "      <td>0.779555</td>\n",
       "      <td>0.853236</td>\n",
       "      <td>médio</td>\n",
       "    </tr>\n",
       "    <tr>\n",
       "      <th>Afghanistan</th>\n",
       "      <td>NaN</td>\n",
       "      <td>NaN</td>\n",
       "      <td>2.0076</td>\n",
       "      <td>1.99482</td>\n",
       "      <td>1.63082</td>\n",
       "      <td>1.61427</td>\n",
       "      <td>2.19546</td>\n",
       "      <td>1.91283</td>\n",
       "      <td>1.75966</td>\n",
       "      <td>3.34245</td>\n",
       "      <td>4.43604</td>\n",
       "      <td>pobre</td>\n",
       "    </tr>\n",
       "    <tr>\n",
       "      <th>Mozambique</th>\n",
       "      <td>1.24217</td>\n",
       "      <td>1.27364</td>\n",
       "      <td>1.2814</td>\n",
       "      <td>1.36242</td>\n",
       "      <td>0.946562</td>\n",
       "      <td>0.809469</td>\n",
       "      <td>0.853867</td>\n",
       "      <td>0.846239</td>\n",
       "      <td>0.871483</td>\n",
       "      <td>NaN</td>\n",
       "      <td>NaN</td>\n",
       "      <td>pobre</td>\n",
       "    </tr>\n",
       "  </tbody>\n",
       "</table>\n",
       "</div>"
      ],
      "text/plain": [
       "                    2001      2002     2003      2004      2005      2006  \\\n",
       "China            2.07013    2.1773  2.12041   2.07032   2.04934   2.08955   \n",
       "United States    3.05595    3.3684  3.74436   3.93867   4.00622   3.96305   \n",
       "Russia           4.08113   4.34412  4.30035   3.85266    3.7298    3.5925   \n",
       "United Kingdom   2.40245   2.46074  2.52325   2.45166   2.41834   2.35143   \n",
       "France            2.4865   2.50699  2.56212   2.57857   2.47636   2.41681   \n",
       "Israel           8.39279   9.63606  9.61958   8.72214   8.02784   8.10178   \n",
       "Belize          0.854514  0.841664  0.86521  0.899363  0.959749   1.01393   \n",
       "Mongolia         1.82372   1.81032  1.52531     1.393   1.18084   1.14789   \n",
       "Switzerland      1.08384   1.03464   1.0061  0.965265  0.935534  0.850891   \n",
       "Afghanistan          NaN       NaN   2.0076   1.99482   1.63082   1.61427   \n",
       "Mozambique       1.24217   1.27364   1.2814   1.36242  0.946562  0.809469   \n",
       "\n",
       "                    2007      2008      2009      2010      2011  class  \n",
       "China             2.0541   2.03155   2.24111   2.04228   1.95186   rico  \n",
       "United States    3.98918   4.36827   4.82273   4.83336   4.71327   rico  \n",
       "Russia           3.44086   3.50802   4.36259   3.94264   3.86915  médio  \n",
       "United Kingdom   2.34586   2.48942   2.66721   2.56809   2.59461  médio  \n",
       "France           2.34647   2.33101   2.55313    2.3032   2.24884  médio  \n",
       "Israel           7.46542   7.11494    7.0022   6.54977   6.76796  médio  \n",
       "Belize           1.07695   1.37147   1.27872   1.09565   1.06513  pobre  \n",
       "Mongolia         1.33558   1.18704  0.821013  0.884699  0.951643  pobre  \n",
       "Switzerland     0.811935  0.814454  0.823859  0.779555  0.853236  médio  \n",
       "Afghanistan      2.19546   1.91283   1.75966   3.34245   4.43604  pobre  \n",
       "Mozambique      0.853867  0.846239  0.871483       NaN       NaN  pobre  "
      ]
     },
     "execution_count": 39,
     "metadata": {},
     "output_type": "execute_result"
    }
   ],
   "source": [
    "#Criando um data frame com gasto militar e a nova variávle quali.\n",
    "\n",
    "df = Mil_exp_select.join(x, how='inner')\n",
    "df"
   ]
  },
  {
   "cell_type": "code",
   "execution_count": 40,
   "metadata": {},
   "outputs": [
    {
     "data": {
      "text/plain": [
       "Text(0.5, 1.0, 'Destribuição dos paises dos paises com relação ao PIB - gráfico 1')"
      ]
     },
     "execution_count": 40,
     "metadata": {},
     "output_type": "execute_result"
    },
    {
     "data": {
      "image/png": "[encoded data removed]",
      "text/plain": [
       "<Figure size 432x288 with 1 Axes>"
      ]
     },
     "metadata": {},
     "output_type": "display_data"
    }
   ],
   "source": [
    "#Gráfico de pizza demonstrando como estão classificado os paises.\n",
    "\n",
    "df['class'].value_counts().plot.pie()\n",
    "plt.title('Destribuição dos paises dos paises com relação ao PIB - gráfico 1')"
   ]
  },
  {
   "cell_type": "markdown",
   "metadata": {},
   "source": [
    "**Análise do gráfico 1:**\n",
    "\n",
    "Esse gráfico de pizza mostra que os paises da classe média são predominantes e os ricos são minoria, contudo todos os paíse que estão na classe pobre são países que nunca foram membros."
   ]
  },
  {
   "cell_type": "code",
   "execution_count": 41,
   "metadata": {},
   "outputs": [
    {
     "data": {
      "image/png": "[encoded data removed]",
      "text/plain": [
       "<Figure size 432x288 with 1 Axes>"
      ]
     },
     "metadata": {
      "needs_background": "light"
     },
     "output_type": "display_data"
    }
   ],
   "source": [
    "#Gráfico de gasto militar no decorrer no tempo.\n",
    "\n",
    "y=df.loc[:,['2001','2002','2003','2004','2005','2006','2007','2008','2009','2010','2011']]\n",
    "\n",
    "yt = y.transpose()\n",
    "\n",
    "ax=plt.subplot(\"111\")\n",
    "\n",
    "for pais in yt.columns:\n",
    "    plt.plot(yt.index,yt[pais],\"-o\")\n",
    "    plt.legend()\n",
    "    ax.legend(loc='center left',bbox_to_anchor=(1,0.5))\n",
    "    plt.title('Gasto Militar dos Paíse no decorrer da década - gráfico 2')\n",
    "    plt.ylabel('Gasto militar (%PIB)')"
   ]
  },
  {
   "cell_type": "markdown",
   "metadata": {},
   "source": [
    "**Análise do gráfio 2:**\n",
    "\n",
    "É possível perceber que paises que estão involvidos em conflitos tem um gasto maior. Exemplo: Israel está em uma localiza onde se encotra perto de vários (considerados) \"inimigos\" isso faz com seu gatso militar seja mais alto do que todos os outros paises. O Afeganistão ter um gasto alto também era esperado pois o pais estava em guerra de 2001 a 2014. Contudo apenas dois membros do P5 estão com gastos relativamente altos, mas nunca estão diretamentes involvidos nos conflitos, todavia os outros membros do P5 estão próximo dos demais paises, que também não estão em conflitos e não tem historico de estar.  "
   ]
  },
  {
   "cell_type": "code",
   "execution_count": 42,
   "metadata": {},
   "outputs": [],
   "source": [
    "#Selecionando os anos de 2002 e 2004 (gasto Militar) para compara com Mortem em batalha.\n",
    "\n",
    "Mil_exp_02_04 = Mil_exp_select.loc[:,['2002','2004']]\n",
    "mil_exp = Mil_exp_02_04.rename(columns = {'2002':'Gasto militar em 2002','2004':'Gasto militar em 2004'})"
   ]
  },
  {
   "cell_type": "code",
   "execution_count": 43,
   "metadata": {},
   "outputs": [
    {
     "data": {
      "text/html": [
       "<div>\n",
       "<style scoped>\n",
       "    .dataframe tbody tr th:only-of-type {\n",
       "        vertical-align: middle;\n",
       "    }\n",
       "\n",
       "    .dataframe tbody tr th {\n",
       "        vertical-align: top;\n",
       "    }\n",
       "\n",
       "    .dataframe thead th {\n",
       "        text-align: right;\n",
       "    }\n",
       "</style>\n",
       "<table border=\"1\" class=\"dataframe\">\n",
       "  <thead>\n",
       "    <tr style=\"text-align: right;\">\n",
       "      <th></th>\n",
       "      <th>Mortos em batalha (2002)</th>\n",
       "      <th>Mortos em batalha (2004)</th>\n",
       "      <th>Gasto militar em 2002</th>\n",
       "      <th>Gasto militar em 2004</th>\n",
       "    </tr>\n",
       "  </thead>\n",
       "  <tbody>\n",
       "    <tr>\n",
       "      <th>China</th>\n",
       "      <td>0.000000</td>\n",
       "      <td>0.000000</td>\n",
       "      <td>2.1773</td>\n",
       "      <td>2.07032</td>\n",
       "    </tr>\n",
       "    <tr>\n",
       "      <th>United States</th>\n",
       "      <td>0.014938</td>\n",
       "      <td>0.337659</td>\n",
       "      <td>3.3684</td>\n",
       "      <td>3.93867</td>\n",
       "    </tr>\n",
       "    <tr>\n",
       "      <th>Russia</th>\n",
       "      <td>11.757160</td>\n",
       "      <td>5.434431</td>\n",
       "      <td>4.34412</td>\n",
       "      <td>3.85266</td>\n",
       "    </tr>\n",
       "    <tr>\n",
       "      <th>United Kingdom</th>\n",
       "      <td>0.000000</td>\n",
       "      <td>0.074462</td>\n",
       "      <td>2.46074</td>\n",
       "      <td>2.45166</td>\n",
       "    </tr>\n",
       "    <tr>\n",
       "      <th>France</th>\n",
       "      <td>0.000000</td>\n",
       "      <td>0.001298</td>\n",
       "      <td>2.50699</td>\n",
       "      <td>2.57857</td>\n",
       "    </tr>\n",
       "    <tr>\n",
       "      <th>Israel</th>\n",
       "      <td>6.957225</td>\n",
       "      <td>1.863310</td>\n",
       "      <td>9.63606</td>\n",
       "      <td>8.72214</td>\n",
       "    </tr>\n",
       "    <tr>\n",
       "      <th>Belize</th>\n",
       "      <td>0.000000</td>\n",
       "      <td>0.000000</td>\n",
       "      <td>0.841664</td>\n",
       "      <td>0.899363</td>\n",
       "    </tr>\n",
       "    <tr>\n",
       "      <th>Mongolia</th>\n",
       "      <td>0.000000</td>\n",
       "      <td>0.000000</td>\n",
       "      <td>1.81032</td>\n",
       "      <td>1.393</td>\n",
       "    </tr>\n",
       "    <tr>\n",
       "      <th>Switzerland</th>\n",
       "      <td>0.000000</td>\n",
       "      <td>0.000000</td>\n",
       "      <td>1.03464</td>\n",
       "      <td>0.965265</td>\n",
       "    </tr>\n",
       "    <tr>\n",
       "      <th>Afghanistan</th>\n",
       "      <td>36.083990</td>\n",
       "      <td>9.451028</td>\n",
       "      <td>NaN</td>\n",
       "      <td>1.99482</td>\n",
       "    </tr>\n",
       "    <tr>\n",
       "      <th>Mozambique</th>\n",
       "      <td>7.249787</td>\n",
       "      <td>0.093519</td>\n",
       "      <td>1.27364</td>\n",
       "      <td>1.36242</td>\n",
       "    </tr>\n",
       "  </tbody>\n",
       "</table>\n",
       "</div>"
      ],
      "text/plain": [
       "                Mortos em batalha (2002)  Mortos em batalha (2004)  \\\n",
       "China                           0.000000                  0.000000   \n",
       "United States                   0.014938                  0.337659   \n",
       "Russia                         11.757160                  5.434431   \n",
       "United Kingdom                  0.000000                  0.074462   \n",
       "France                          0.000000                  0.001298   \n",
       "Israel                          6.957225                  1.863310   \n",
       "Belize                          0.000000                  0.000000   \n",
       "Mongolia                        0.000000                  0.000000   \n",
       "Switzerland                     0.000000                  0.000000   \n",
       "Afghanistan                    36.083990                  9.451028   \n",
       "Mozambique                      7.249787                  0.093519   \n",
       "\n",
       "               Gasto militar em 2002 Gasto militar em 2004  \n",
       "China                         2.1773               2.07032  \n",
       "United States                 3.3684               3.93867  \n",
       "Russia                       4.34412               3.85266  \n",
       "United Kingdom               2.46074               2.45166  \n",
       "France                       2.50699               2.57857  \n",
       "Israel                       9.63606               8.72214  \n",
       "Belize                      0.841664              0.899363  \n",
       "Mongolia                     1.81032                 1.393  \n",
       "Switzerland                  1.03464              0.965265  \n",
       "Afghanistan                      NaN               1.99482  \n",
       "Mozambique                   1.27364               1.36242  "
      ]
     },
     "execution_count": 43,
     "metadata": {},
     "output_type": "execute_result"
    }
   ],
   "source": [
    "#Criando um data frame chamdo dado, juntando gasto militar (2002 e 2004) com mortes em batalha (2002 e 2004)  \n",
    "\n",
    "dado = Mor_name.join(mil_exp, how='inner')\n",
    "dado"
   ]
  },
  {
   "cell_type": "code",
   "execution_count": 44,
   "metadata": {},
   "outputs": [
    {
     "data": {
      "text/plain": [
       "Text(0.5, 1.0, 'Morte em batalha x Gasto militar - gráfico 3')"
      ]
     },
     "execution_count": 44,
     "metadata": {},
     "output_type": "execute_result"
    },
    {
     "data": {
      "image/png": "[encoded data removed]",
      "text/plain": [
       "<Figure size 432x288 with 1 Axes>"
      ]
     },
     "metadata": {
      "needs_background": "light"
     },
     "output_type": "display_data"
    }
   ],
   "source": [
    "# Gráfico de dispersão de mortes em batalah por gasto militar. \n",
    "\n",
    "plt.scatter(dado['Mortos em batalha (2002)'],dado['Gasto militar em 2002'],color='r')\n",
    "plt.scatter(dado['Mortos em batalha (2004)'],dado['Gasto militar em 2004'],color='b')\n",
    "plt.ylabel('Gasto Militar')\n",
    "plt.xlabel('Mortes em batalha')\n",
    "plt.title('Morte em batalha x Gasto militar - gráfico 3')"
   ]
  },
  {
   "cell_type": "markdown",
   "metadata": {},
   "source": [
    "**Análise do gráfico 3:**\n",
    "\n",
    "A maioria dos pontos tem zero mortes em batalha, pois na década de 2000 as guerras mais impactantes foram a do Afeganistão, Iraque e guerra do líbano, que envolveram apenas Iraque , Afeganistão e EUA (vale ressalter que tiveram mais países envolvidos, mas os citados são os estudados). Ou seja, a grande maioria dos paises não estavem envolvidos em guerras.   "
   ]
  },
  {
   "cell_type": "markdown",
   "metadata": {},
   "source": [
    "## Conclusão:"
   ]
  },
  {
   "cell_type": "markdown",
   "metadata": {},
   "source": [
    "Após análisar os dados, é possível ver que tem paises que a maioria dos paises se encaixam em uma hipótese, exemplo: tanto Belize, quanto Mongolia e Moçambique se encaixam no perfil de serem economicamentes fracos e não são interessantes para o CSNU pois muitas parcerias economicas que visão melhorar a paz são feitas isso faz com que esses paises não sejam de tanto interesse para o conselho. \n",
    "\n",
    "Israel não é um pais economicamente fraco, porém como tem sempre a ameaça de paises vizinhos o CSNU também perde interesse pois os problemas de Israel podem virar foco de discussão nas sessõe do conselho fazendo com que o CSNU falhe com sua missão que é mater a paz mundial e não a paz de Israel.\n",
    "\n",
    "Um caso interessante é o Afeganistão que se enquadra nos dois casos, de ter passado por problemas (Guerra do Afeganistão) e não tem potencial de ser um bom parceiro econômico, ou seja, as hipoteses ainda estão válidas, contudo a Suiça quebra as hipoteses pois tem uma economia forte e ao longo de sua história é famosa por não ser involver em conflitos e o mesmo vale para a década dos anos 2000's, e por que ela não está no conselho? Acontece que ela enquanto país opita por não participar do CSNU mantendo a sua politica externa de austeridade.\n",
    "\n",
    "As hipoteses se demontram válidas em alguns casos, porém como os paises são muito diferentes e específicos é extremamente complicado determinar regras gerais pois não é uma ciência exata. "
   ]
  }
 ],
 "metadata": {
  "kernelspec": {
   "display_name": "Python 3",
   "language": "python",
   "name": "python3"
  },
  "language_info": {
   "codemirror_mode": {
    "name": "ipython",
    "version": 3
   },
   "file_extension": ".py",
   "mimetype": "text/x-python",
   "name": "python",
   "nbconvert_exporter": "python",
   "pygments_lexer": "ipython3",
   "version": "3.7.1"
  }
 },
 "nbformat": 4,
 "nbformat_minor": 2
}
