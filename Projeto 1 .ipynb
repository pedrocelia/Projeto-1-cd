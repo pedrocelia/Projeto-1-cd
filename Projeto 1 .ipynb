{
 "cells": [
  {
   "cell_type": "markdown",
   "metadata": {},
   "source": [
    "## Projeto 1 - Ciência dos Dados"
   ]
  },
  {
   "cell_type": "markdown",
   "metadata": {},
   "source": [
    "**Pergunta 1: Qual é o impacto social, econômico e militar no pais que participa do Conselho de Segurança?** \n"
   ]
  },
  {
   "cell_type": "markdown",
   "metadata": {},
   "source": [
    "**Pergunta 2: Qual é diferença economica, social e militar entre o P5 e paises que não são fixos?**"
   ]
  },
  {
   "cell_type": "code",
   "execution_count": 13,
   "metadata": {},
   "outputs": [],
   "source": [
    "#Importando todas as classes necessárias.\n",
    "\n",
    "%matplotlib inline\n",
    "import pandas as pd\n",
    "import numpy as np\n",
    "import math as math\n",
    "from scipy import stats\n",
    "import matplotlib.pyplot as plt\n"
   ]
  },
  {
   "cell_type": "code",
   "execution_count": 14,
   "metadata": {},
   "outputs": [
    {
     "data": {
      "text/html": [
       "<div>\n",
       "<style scoped>\n",
       "    .dataframe tbody tr th:only-of-type {\n",
       "        vertical-align: middle;\n",
       "    }\n",
       "\n",
       "    .dataframe tbody tr th {\n",
       "        vertical-align: top;\n",
       "    }\n",
       "\n",
       "    .dataframe thead th {\n",
       "        text-align: right;\n",
       "    }\n",
       "</style>\n",
       "<table border=\"1\" class=\"dataframe\">\n",
       "  <thead>\n",
       "    <tr style=\"text-align: right;\">\n",
       "      <th></th>\n",
       "      <th>HDI</th>\n",
       "      <th>1980</th>\n",
       "      <th>1990</th>\n",
       "      <th>2000</th>\n",
       "      <th>2005</th>\n",
       "      <th>2006</th>\n",
       "      <th>2007</th>\n",
       "      <th>2008</th>\n",
       "      <th>2009</th>\n",
       "      <th>2011</th>\n",
       "    </tr>\n",
       "  </thead>\n",
       "  <tbody>\n",
       "    <tr>\n",
       "      <th>0</th>\n",
       "      <td>Abkhazia</td>\n",
       "      <td>NaN</td>\n",
       "      <td>NaN</td>\n",
       "      <td>NaN</td>\n",
       "      <td>NaN</td>\n",
       "      <td>NaN</td>\n",
       "      <td>NaN</td>\n",
       "      <td>NaN</td>\n",
       "      <td>NaN</td>\n",
       "      <td>NaN</td>\n",
       "    </tr>\n",
       "    <tr>\n",
       "      <th>1</th>\n",
       "      <td>Afghanistan</td>\n",
       "      <td>0.198</td>\n",
       "      <td>0.246</td>\n",
       "      <td>0.230</td>\n",
       "      <td>0.340</td>\n",
       "      <td>0.354</td>\n",
       "      <td>0.363</td>\n",
       "      <td>0.370</td>\n",
       "      <td>0.387</td>\n",
       "      <td>0.398</td>\n",
       "    </tr>\n",
       "    <tr>\n",
       "      <th>2</th>\n",
       "      <td>Akrotiri and Dhekelia</td>\n",
       "      <td>NaN</td>\n",
       "      <td>NaN</td>\n",
       "      <td>NaN</td>\n",
       "      <td>NaN</td>\n",
       "      <td>NaN</td>\n",
       "      <td>NaN</td>\n",
       "      <td>NaN</td>\n",
       "      <td>NaN</td>\n",
       "      <td>NaN</td>\n",
       "    </tr>\n",
       "    <tr>\n",
       "      <th>3</th>\n",
       "      <td>Albania</td>\n",
       "      <td>NaN</td>\n",
       "      <td>0.656</td>\n",
       "      <td>0.691</td>\n",
       "      <td>0.721</td>\n",
       "      <td>0.724</td>\n",
       "      <td>0.729</td>\n",
       "      <td>0.733</td>\n",
       "      <td>0.734</td>\n",
       "      <td>0.739</td>\n",
       "    </tr>\n",
       "    <tr>\n",
       "      <th>4</th>\n",
       "      <td>Algeria</td>\n",
       "      <td>0.454</td>\n",
       "      <td>0.551</td>\n",
       "      <td>0.624</td>\n",
       "      <td>0.667</td>\n",
       "      <td>0.673</td>\n",
       "      <td>0.680</td>\n",
       "      <td>0.686</td>\n",
       "      <td>0.691</td>\n",
       "      <td>0.698</td>\n",
       "    </tr>\n",
       "  </tbody>\n",
       "</table>\n",
       "</div>"
      ],
      "text/plain": [
       "                     HDI   1980   1990   2000   2005   2006   2007   2008  \\\n",
       "0               Abkhazia    NaN    NaN    NaN    NaN    NaN    NaN    NaN   \n",
       "1            Afghanistan  0.198  0.246  0.230  0.340  0.354  0.363  0.370   \n",
       "2  Akrotiri and Dhekelia    NaN    NaN    NaN    NaN    NaN    NaN    NaN   \n",
       "3                Albania    NaN  0.656  0.691  0.721  0.724  0.729  0.733   \n",
       "4                Algeria  0.454  0.551  0.624  0.667  0.673  0.680  0.686   \n",
       "\n",
       "    2009   2011  \n",
       "0    NaN    NaN  \n",
       "1  0.387  0.398  \n",
       "2    NaN    NaN  \n",
       "3  0.734  0.739  \n",
       "4  0.691  0.698  "
      ]
     },
     "execution_count": 14,
     "metadata": {},
     "output_type": "execute_result"
    }
   ],
   "source": [
    "#Leitura dos arquivos em Excel.\n",
    "\n",
    "IDH = pd.read_excel('Indicator_HDI.xlsx')\n",
    "GDP_cap = pd.read_excel('indicator WB data GDP pc ppp.xlsx')\n",
    "Mil_exp = pd.read_excel('military expenditure.xlsx')\n",
    "Energy_total = pd.read_excel('Electricity Generation.xlsx')\n",
    "\n",
    "IDH.head()\n",
    "#GDP_cap.head()\n",
    "#Mil_exp.head()\n",
    "#Energy_total.head()"
   ]
  },
  {
   "cell_type": "code",
   "execution_count": 29,
   "metadata": {},
   "outputs": [],
   "source": [
    "#Mundando o index de cada tabela.\n",
    "\n",
    "idh_index = IDH.set_index('HDI')\n",
    "GPD_cap_index = GDP_cap.set_index('GDP per capity, 2005 ppp, WB data')\n",
    "Mil_exp_index = Mil_exp.set_index('Military expenditure (% of GDP)')"
   ]
  },
  {
   "cell_type": "code",
   "execution_count": 37,
   "metadata": {},
   "outputs": [],
   "source": [
    "#Transpondo os dados e defindo os anos a serem analisados.\n",
    "\n",
    "IDH_trans=idh_index.transpose()\n",
    "IDH_idx=IDH_trans[IDH_trans.index>2000]\n",
    "IDH_x=IDH_idx.transpose()"
   ]
  },
  {
   "cell_type": "code",
   "execution_count": 41,
   "metadata": {},
   "outputs": [],
   "source": [
    "#Transpondo os dados e defindo os anos a serem analisados.\n",
    "\n",
    "GPD_cap_trans = GPD_cap_index.transpose()\n",
    "GPD_cap_idx = GPD_cap_trans[GPD_cap_trans.index>2000]\n",
    "GPD_cap_x = GPD_cap_idx.transpose()"
   ]
  },
  {
   "cell_type": "code",
   "execution_count": null,
   "metadata": {},
   "outputs": [],
   "source": [
    "#Transpondo os dados e defindo os anos a serem analisados."
   ]
  },
  {
   "cell_type": "code",
   "execution_count": 25,
   "metadata": {},
   "outputs": [
    {
     "data": {
      "text/plain": [
       "<matplotlib.axes._subplots.AxesSubplot at 0x2345bdd4f60>"
      ]
     },
     "execution_count": 25,
     "metadata": {},
     "output_type": "execute_result"
    },
    {
     "data": {
      "image/png": "[encoded data removed]",
      "text/plain": [
       "<Figure size 432x288 with 1 Axes>"
      ]
     },
     "metadata": {
      "needs_background": "light"
     },
     "output_type": "display_data"
    }
   ],
   "source": [
    "idh_x.plot(kind='bar', color=('yellow', 'salmon', 'blue', 'red', 'green'),  legend=False)"
   ]
  },
  {
   "cell_type": "code",
   "execution_count": null,
   "metadata": {},
   "outputs": [],
   "source": []
  }
 ],
 "metadata": {
  "kernelspec": {
   "display_name": "Python 3",
   "language": "python",
   "name": "python3"
  },
  "language_info": {
   "codemirror_mode": {
    "name": "ipython",
    "version": 3
   },
   "file_extension": ".py",
   "mimetype": "text/x-python",
   "name": "python",
   "nbconvert_exporter": "python",
   "pygments_lexer": "ipython3",
   "version": "3.7.1"
  }
 },
 "nbformat": 4,
 "nbformat_minor": 2
}
